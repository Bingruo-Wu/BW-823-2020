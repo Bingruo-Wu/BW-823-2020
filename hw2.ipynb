{
 "cells": [
  {
   "cell_type": "markdown",
   "metadata": {},
   "source": [
    "Problem 80：Square root digital expansion (sloved by 19,021 people)"
   ]
  },
  {
   "cell_type": "code",
   "execution_count": 1,
   "metadata": {},
   "outputs": [],
   "source": [
    "from decimal import Decimal, localcontext\n",
    "def square_root_digital_expansion():\n",
    "    \"\"\"This is a funcstion used to find the find the total of the\n",
    "    digital sums of the first one hundred decimal digits for all the irrational square roots\n",
    "    for the first one hundred natural numbers\n",
    "    \"\"\"\n",
    "    s = 0\n",
    "    for x in range(100):\n",
    "        with localcontext() as ctx:\n",
    "            ctx.prec = 102 # due to the existence of the rounding error, the precision is set to be larger than 101\n",
    "            if len(str(Decimal(x).sqrt())) == 1:\n",
    "                s = s + 0 # only consider irrational square roots\n",
    "            else:\n",
    "                ss = sum([int(i) for i in str(Decimal(x).sqrt())[2:101]])+int(str(Decimal(x).sqrt())[0]) # add digits at the left and right of side the decimal \n",
    "                s = s + ss\n",
    "    return s"
   ]
  },
  {
   "cell_type": "code",
   "execution_count": 2,
   "metadata": {},
   "outputs": [
    {
     "data": {
      "text/plain": [
       "40886"
      ]
     },
     "execution_count": 2,
     "metadata": {},
     "output_type": "execute_result"
    }
   ],
   "source": [
    "square_root_digital_expansion()"
   ]
  },
  {
   "cell_type": "markdown",
   "metadata": {},
   "source": [
    "Problem 7: What is the 10001st prime (Sloved by 420,735 people)"
   ]
  },
  {
   "cell_type": "code",
   "execution_count": 17,
   "metadata": {},
   "outputs": [],
   "source": [
    "def prob7():\n",
    "    \"\"\"\n",
    "    This function tells us what is the 10001st prime number\n",
    "    \"\"\"\n",
    "    prime_list = lambda x:[i for i in range(2, x+1) if all([i%x for x in range(2, int(i**0.5+1))])][10000]\n",
    "    print(prime_list(120000))"
   ]
  },
  {
   "cell_type": "code",
   "execution_count": 18,
   "metadata": {},
   "outputs": [
    {
     "name": "stdout",
     "output_type": "stream",
     "text": [
      "104743\n"
     ]
    }
   ],
   "source": [
    "prob7()"
   ]
  },
  {
   "cell_type": "markdown",
   "metadata": {},
   "source": [
    "Problem 52: Permuted Multiples (Sloved by 63,871 people)"
   ]
  },
  {
   "cell_type": "code",
   "execution_count": 2,
   "metadata": {},
   "outputs": [],
   "source": [
    "def prob52():\n",
    "    \"\"\"It can be seen that the number, 125874, and its double, 251748, contain exactly the same digits,\n",
    "    but in a different order. So this function finds the smallest positive integer, x,\n",
    "    such that 2x, 3x, 4x, 5x, and 6x, contain the same digits.\n",
    "    \"\"\"\n",
    "    i = 1\n",
    "    while True:\n",
    "        if set(str(i)) == set(str(6*i)):\n",
    "            if set(str(i)) == set(str(5*i)):\n",
    "                if set(str(i)) == set(str(4*i)):\n",
    "                    if set(str(i)) == set(str(3*i)):\n",
    "                        if set(str(i)) == set(str(2*i)):\n",
    "                            print(i)\n",
    "                            break\n",
    "        i += 1"
   ]
  },
  {
   "cell_type": "code",
   "execution_count": 3,
   "metadata": {},
   "outputs": [
    {
     "name": "stdout",
     "output_type": "stream",
     "text": [
      "142857\n"
     ]
    }
   ],
   "source": [
    "prob52()"
   ]
  },
  {
   "cell_type": "code",
   "execution_count": null,
   "metadata": {},
   "outputs": [],
   "source": []
  }
 ],
 "metadata": {
  "kernelspec": {
   "display_name": "Python 3",
   "language": "python",
   "name": "python3"
  },
  "language_info": {
   "codemirror_mode": {
    "name": "ipython",
    "version": 3
   },
   "file_extension": ".py",
   "mimetype": "text/x-python",
   "name": "python",
   "nbconvert_exporter": "python",
   "pygments_lexer": "ipython3",
   "version": "3.7.4"
  }
 },
 "nbformat": 4,
 "nbformat_minor": 2
}
